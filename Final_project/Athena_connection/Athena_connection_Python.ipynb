{
 "cells": [
  {
   "cell_type": "markdown",
   "metadata": {},
   "source": [
    "# Connection using credentials set with _aws configure_\n",
    "\n",
    "In this case you just need to call _aws configure_ in console, and set the credentials of the role you want to use to connect. Then, boto3 function calls will use these credentials by default."
   ]
  },
  {
   "cell_type": "code",
   "execution_count": null,
   "metadata": {},
   "outputs": [],
   "source": [
    "import boto3\n",
    "import pandas as pd\n",
    "import time\n",
    "from io import StringIO"
   ]
  },
  {
   "cell_type": "code",
   "execution_count": null,
   "metadata": {},
   "outputs": [],
   "source": [
    "client = boto3.client('athena')\n",
    "query = \"SELECT * FROM sampledb.elb_logs LIMIT 10\"\n",
    "\n",
    "response = client.start_query_execution(\n",
    "    QueryString=query,\n",
    "    ResultConfiguration={\n",
    "        'OutputLocation': 's3://aws-athena-query-results-920137764546-us-east-1/'\n",
    "    }\n",
    ")"
   ]
  },
  {
   "cell_type": "code",
   "execution_count": null,
   "metadata": {},
   "outputs": [],
   "source": [
    "# as we want to read the query result, we need to wait till it ends\n",
    "while True:\n",
    "    state = client.get_query_execution(QueryExecutionId = response['QueryExecutionId'])['QueryExecution']['Status']['State']\n",
    "    if state == 'SUCCEEDED' or state == 'FAILED':\n",
    "        break\n",
    "    time.sleep(1) # let's wait one more second\n",
    "\n",
    "# query finished, so we can now load its result\n",
    "s3 = boto3.resource('s3')\n",
    "bucket = 'aws-athena-query-results-920137764546-us-east-1'\n",
    "obj = s3.Object(bucket, \"{}.csv\".format(response['QueryExecutionId']))\n",
    "csv_content = obj.get()['Body'].read().decode('utf-8')\n",
    "\n",
    "query_result = pd.read_csv(StringIO(csv_content))"
   ]
  },
  {
   "cell_type": "code",
   "execution_count": null,
   "metadata": {},
   "outputs": [],
   "source": [
    "query_result"
   ]
  },
  {
   "cell_type": "markdown",
   "metadata": {},
   "source": [
    "# Connection using credentials provided for a session\n",
    "\n",
    "In this case you need to provide aws role credentials when you construct a client object."
   ]
  },
  {
   "cell_type": "code",
   "execution_count": null,
   "metadata": {},
   "outputs": [],
   "source": [
    "import boto3\n",
    "import pandas as pd\n",
    "import time\n",
    "from io import StringIO"
   ]
  },
  {
   "cell_type": "code",
   "execution_count": null,
   "metadata": {},
   "outputs": [],
   "source": [
    "access_key = '<your_access_key>'\n",
    "secret_access_key = '<your_secret_access_key>'\n",
    "region = 'us-east-1'"
   ]
  },
  {
   "cell_type": "code",
   "execution_count": null,
   "metadata": {},
   "outputs": [],
   "source": [
    "client = boto3.client('athena',\n",
    "    aws_access_key_id=access_key, # as we create a new boto3 connection, we need to specify credentials again\n",
    "    aws_secret_access_key=secret_access_key,\n",
    "    region_name=region \n",
    ")\n",
    "query = \"SELECT * FROM sampledb.elb_logs LIMIT 10\"\n",
    "\n",
    "response = client.start_query_execution(\n",
    "    QueryString=query,\n",
    "    ResultConfiguration={\n",
    "        'OutputLocation': 's3://aws-athena-query-results-920137764546-us-east-1/'\n",
    "    }\n",
    ")"
   ]
  },
  {
   "cell_type": "code",
   "execution_count": null,
   "metadata": {},
   "outputs": [],
   "source": [
    "# as we want to read the query result, we need to wait till it ends\n",
    "while True:\n",
    "    state = client.get_query_execution(QueryExecutionId = response['QueryExecutionId'])['QueryExecution']['Status']['State']\n",
    "    if state == 'SUCCEEDED' or state == 'FAILED':\n",
    "        break\n",
    "    time.sleep(1) # let's wait one more second\n",
    "\n",
    "# query finished, so we can now load its result\n",
    "s3 = boto3.resource('s3',\n",
    "    aws_access_key_id=access_key, # as we create a new boto3 connection, we need to specify credentials again\n",
    "    aws_secret_access_key=secret_access_key,\n",
    "    region_name=region\n",
    ")\n",
    "bucket = 'aws-athena-query-results-920137764546-us-east-1'\n",
    "obj = s3.Object(bucket, \"{}.csv\".format(response['QueryExecutionId']))\n",
    "csv_content = obj.get()['Body'].read().decode('utf-8')\n",
    "\n",
    "query_result = pd.read_csv(StringIO(csv_content))"
   ]
  },
  {
   "cell_type": "code",
   "execution_count": null,
   "metadata": {},
   "outputs": [],
   "source": [
    "query_result"
   ]
  },
  {
   "cell_type": "markdown",
   "metadata": {},
   "source": [
    "# Other possibilities\n",
    "\n",
    "You may check them [here](https://boto3.amazonaws.com/v1/documentation/api/latest/guide/configuration.html)."
   ]
  },
  {
   "cell_type": "code",
   "execution_count": null,
   "metadata": {},
   "outputs": [],
   "source": []
  }
 ],
 "metadata": {
  "kernelspec": {
   "display_name": "Python 3",
   "language": "python",
   "name": "python3"
  },
  "language_info": {
   "codemirror_mode": {
    "name": "ipython",
    "version": 3
   },
   "file_extension": ".py",
   "mimetype": "text/x-python",
   "name": "python",
   "nbconvert_exporter": "python",
   "pygments_lexer": "ipython3",
   "version": "3.6.7"
  }
 },
 "nbformat": 4,
 "nbformat_minor": 2
}
