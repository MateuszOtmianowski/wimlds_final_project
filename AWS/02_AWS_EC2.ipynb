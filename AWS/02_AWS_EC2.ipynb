{
 "cells": [
  {
   "cell_type": "markdown",
   "metadata": {},
   "source": [
    "# Amazon EC2 - Elastic Compute Cloud "
   ]
  },
  {
   "cell_type": "markdown",
   "metadata": {},
   "source": [
    "During todays workshop we will focus on practical usage of EC2. There are three main methods of accessing Amazon EC2:\n",
    "- AWS Management Console\n",
    "- AWS CLI\n",
    "- Boto3"
   ]
  },
  {
   "cell_type": "markdown",
   "metadata": {},
   "source": [
    "##    AWS Management Console\n",
    "AWS Management Console lets you access and manage AWS through a simple and intuitive web-based user interface.\n",
    "\n",
    "Tasks to complete in this subsection:\n",
    "- Explain in details EC2 instance creation process\n"
   ]
  },
  {
   "cell_type": "markdown",
   "metadata": {},
   "source": [
    "We will use the [instruction](https://docs.google.com/document/d/1xlA7w8_xX4aviIxzjkNf-dOul0fQIUZnZ33zkUaVlQY/edit#heading=h.yfrlhfb0nu86), that was provided for you before first meet-up and then describe all steps in details."
   ]
  },
  {
   "cell_type": "markdown",
   "metadata": {},
   "source": [
    "#### 1. Go to the [EC2 console](https://eu-west-1.console.aws.amazon.com/ec2/v2/home?region=eu-west-1#Home:)"
   ]
  },
  {
   "cell_type": "markdown",
   "metadata": {},
   "source": [
    "#### 2. Open the region menu (1) and select US East (N. Virginia) (2)\n",
    "\n",
    "<img src=\"img/20.png\" width=\"900\">"
   ]
  },
  {
   "cell_type": "markdown",
   "metadata": {},
   "source": [
    "#### [Digression] Why choosing proper region is so important?\n",
    "\n",
    "One of the reason is pricing, which may be completely different for various regions. \n",
    "\n",
    "Example:\n",
    "\n",
    "    Instance: c5.large, 20GB gp2 EBS storage each, 5.1 TB data processed for one month of operation\n",
    "    \n",
    "    Monthly prices [in $USD]\n",
    "\n",
    "        N.Virginia, Ohio, Oregon 374.8\n",
    "        Mumbai 377.35\n",
    "        Stockholm 395.96\n",
    "        Canada 410.48\n",
    "        ...\n",
    "        Ireland 417.56\n",
    "        ...\n",
    "        London, Paris 439.21\n",
    "        ...\n",
    "        Sao Paulo 571.18"
   ]
  },
  {
   "cell_type": "markdown",
   "metadata": {},
   "source": [
    "#### 3. Go to security group\n",
    "\n",
    "<img src=\"img/21.png\" width=\"600\">"
   ]
  },
  {
   "cell_type": "markdown",
   "metadata": {},
   "source": [
    "#### 4. On that screen:\n",
    "\n",
    "(1) click Create Security Group button\n",
    "\n",
    "(2) enter a name and a description of the group\n",
    "\n",
    "(3) Add a rule with type All traffic and source My IP (4) \n",
    "\n",
    "<img src=\"img/22.png\" width=\"800\">"
   ]
  },
  {
   "cell_type": "markdown",
   "metadata": {},
   "source": [
    "#### [Digression] Why do we need security groups?\n",
    "\n",
    "1. They control inbound and outbound traffic.\n",
    "2. You can assign an security group (which is a set of instructions) for the given instance when you lounch an instance as well as during operation.\n",
    "3. The work on a level of instance, not subnet -> therefore every instance you create may have different setting.\n",
    "4. You may ban the protocols and IPs you do not want to have an access to your instance.\n"
   ]
  },
  {
   "cell_type": "markdown",
   "metadata": {},
   "source": [
    "#### 5. Go to \n",
    "(1) the Instances screen\n",
    "(2) click Launch instance button\n",
    "\n",
    "<img src=\"img/23.png\" width=\"900\">"
   ]
  },
  {
   "cell_type": "markdown",
   "metadata": {},
   "source": [
    "#### 6. AMI\n",
    "(1) select Community AMIs, put “pearson” in the search box. Remember to choose proper region\n",
    "\n",
    "(2) click the Select button \n",
    "\n",
    "<img src=\"img/24.png\" width=\"900\">"
   ]
  },
  {
   "cell_type": "markdown",
   "metadata": {},
   "source": [
    "#### [Digression] What is AMI?\n",
    "Amazon Machine Image provides information required to launch an instance. \n",
    "\n",
    "You may launch multiple instances from one AMI (may be useful for parallel computing)\n",
    "\n",
    "Launch permissions:\n",
    "- public (launch permission to all AWS accounts)\n",
    "- explicit (launch permission to specific AWS account)\n",
    "- implicit (the owner has implicit permissions for an AMI)\n",
    "\n",
    "Storage for the Root Device:\n",
    "- Amazon EBS - Backed AMI - we will use that \n",
    "- Amazon Instance Store-Backed AMI (no stop stage; only running or terminate). Storage connected with instance"
   ]
  },
  {
   "cell_type": "markdown",
   "metadata": {},
   "source": [
    "#### 7. Instance type\n",
    "(1) Select t3.medium"
   ]
  },
  {
   "cell_type": "markdown",
   "metadata": {},
   "source": [
    "#### [Digression] Why did we change the instance type?\n",
    "\n",
    "    t3.medium price $0.0456/h\n",
    "    \n",
    "    p2.xlarge price $0.972/h"
   ]
  },
  {
   "cell_type": "markdown",
   "metadata": {},
   "source": [
    "#### 8. Configure Instance Details\n",
    "(1)  set Auto-assign Public IP to Enable, and click the Next button\n",
    "\n",
    "<img src=\"img/25.png\" width=\"900\">\n",
    "\n"
   ]
  },
  {
   "cell_type": "markdown",
   "metadata": {},
   "source": [
    "#### 9. Add storage\n",
    "(1) Size = 100 GiB"
   ]
  },
  {
   "cell_type": "markdown",
   "metadata": {},
   "source": [
    "#### 10. Add tags\n",
    "(1) leave these step (Next)"
   ]
  },
  {
   "cell_type": "markdown",
   "metadata": {},
   "source": [
    "#### [Digression] Why use tags?\n",
    "Tags may be use for security. For example you may set tags while creating an instance, and then create subaccounts with default permissions/ban to use given tags.\n"
   ]
  },
  {
   "cell_type": "markdown",
   "metadata": {},
   "source": [
    "#### 11. Select an existing security group\n",
    "\n",
    "(1) select a group you created earlier \n",
    "\n",
    "(2) click Review and Launch\n",
    "\n",
    "(3) in the next step click launch"
   ]
  },
  {
   "cell_type": "markdown",
   "metadata": {},
   "source": [
    "#### 12. Key-pair\n",
    "You should have an existing secuiruty key-pair. If no, please follow \n",
    "\n",
    "(1) select Create a new key pair\n",
    "\n",
    "(2) put the name of your key\n",
    "\n",
    "(3) click download Key Pair \n",
    "\n",
    "Click Launch Instances"
   ]
  },
  {
   "cell_type": "markdown",
   "metadata": {},
   "source": [
    "##    AWS CLI \n",
    "The AWS Command Line Interface (CLI) is a unified tool to manage AWS services. Enable controlling multiple AWS services from the command line and automate them through scripts.\n",
    "\n",
    "Tasks to complete in this subsection\n",
    "- prerequisities\n",
    "    - AWS CLI installation\n",
    "    - get the access key\n",
    "    - configure AWS profile\n",
    "- getting familiar with EC2 commands\n",
    "    - create instance\n",
    "    - list your EC2 instances\n",
    "    - stop instance\n",
    "    - terminate instance"
   ]
  },
  {
   "cell_type": "markdown",
   "metadata": {},
   "source": [
    "#### Install AWS CLI \n",
    "- Windows \n",
    "    Download and run the 64-bit or 32-bit Windows installer (website)\n",
    "    \n",
    "[Here you will find files if you use windows](https://aws.amazon.com/cli/)\n",
    "\n",
    "- Mac and linux \n",
    "\n",
    "    `[sudo] pip3 install awscli`\n",
    "\n",
    "#### Generate access key and secret access key\n",
    "\n",
    "- [Instruction](https://help.bittitan.com/hc/en-us/articles/115008255268-How-do-I-find-my-AWS-Access-Key-and-Secret-Access-Key-)\n",
    "\n",
    "\n",
    "#### Create AWS profile on your local machine\n",
    "- Type in terminal:\n",
    "\n",
    "    `aws --profile <profile_name> configure`\n",
    "    \n",
    "    for example\n",
    "    \n",
    "    `aws --profile wimlds configure`\n",
    "\n",
    "\n",
    "- You have to provide your access key, secret acces key (generated in the previous step) and region\n",
    "\n",
    "<img src=\"img/06.png\" width=\"400\">\n",
    "\n"
   ]
  },
  {
   "cell_type": "markdown",
   "metadata": {},
   "source": [
    "### Creating an instance"
   ]
  },
  {
   "cell_type": "markdown",
   "metadata": {},
   "source": [
    "While creating an EC2 instance using AWS CLI you may provide bunch of different parameters. \n",
    "They are available in the documentation \n",
    "[AWS CLI documentation](https://docs.aws.amazon.com/cli/latest/reference/ec2/run-instances.html). \n",
    "\n",
    "Here we will shortly describe the most important:\n",
    "\n",
    "- Choose your AWS profile\n",
    "    - --image-id : unique number of AMI you would like to run your instance from (we may choose Pearson public AMI used prevously ami-027a37554bbb7d7b1)\n",
    "    - --count : number of instances to create. Please be careful!\n",
    "    - --insance-type : provide name of instance type for example t3.medium [Available instance types](https://docs.aws.amazon.com/AWSEC2/latest/UserGuide/instance-types.html)\n",
    "    - --key-name : name of your pem file for example wimlds-tomek\n",
    "    - --security-group-ids: unique number of your security group for example: sg-0527c2cf9c742ee17. Please provide your number"
   ]
  },
  {
   "cell_type": "markdown",
   "metadata": {},
   "source": [
    "For example:\n",
    "\n",
    "`aws --profile wimlds ec2 run-instances --image-id ami-027a37554bbb7d7b1 --count 1 --instance-type t3.medium --key-name wimlds-tomek --security-group-ids sg-0527c2cf9c742ee17`"
   ]
  },
  {
   "cell_type": "markdown",
   "metadata": {},
   "source": [
    "### Listing your EC2 instances\n"
   ]
  },
  {
   "cell_type": "code",
   "execution_count": null,
   "metadata": {},
   "outputs": [],
   "source": [
    "! aws --profile wimlds ec2 describe-instances"
   ]
  },
  {
   "cell_type": "markdown",
   "metadata": {},
   "source": [
    "### Stopping your EC2 instances"
   ]
  },
  {
   "cell_type": "code",
   "execution_count": null,
   "metadata": {},
   "outputs": [],
   "source": [
    "! aws --profile wimlds ec2 stop-instances --instance-ids i-0920c96ebfe1e20fa"
   ]
  },
  {
   "cell_type": "markdown",
   "metadata": {},
   "source": [
    "### Terminating your EC2 instances"
   ]
  },
  {
   "cell_type": "code",
   "execution_count": null,
   "metadata": {},
   "outputs": [],
   "source": [
    "! aws --profile wimlds ec2 terminate-instances --instance-ids i-0920c96ebfe1e20fa"
   ]
  },
  {
   "cell_type": "markdown",
   "metadata": {},
   "source": [
    "## Exercise (7 minutes)\n",
    "\n",
    "1. Create instance using AWS CLI\n",
    "2. Find your instance in AWS management console\n",
    "3. Stop the instance using AWS CLI\n",
    "4. Check your instance state in AWS management console\n",
    "5. Terminate the instance using AWS CLI\n",
    "6. Check your instance state in AWS management console"
   ]
  },
  {
   "cell_type": "markdown",
   "metadata": {},
   "source": [
    "## Python boto3\n",
    "Boto is the Amazon Web Services (AWS) SDK for Python, which allows Python developers to write software that makes use of Amazon services like S3 and EC2. Boto provides an easy to use, object-oriented API as well as low-level direct service access.\n",
    "\n",
    "Tasks to complete in this subsection\n",
    "- prerequisities\n",
    "    - boto3 installation\n",
    "    - boto3 documentation\n",
    "- getting familiar with boto3\n",
    "    - create EC2 instance\n",
    "    - stop instance\n",
    "    - terminate instance"
   ]
  },
  {
   "cell_type": "markdown",
   "metadata": {},
   "source": [
    "### Prerquisities\n",
    "\n",
    "#### Install boto3\n",
    "- Go to terminal and type\n",
    "\n",
    "    `pip install boto3`\n",
    "\n",
    "    if does not work\n",
    "    \n",
    "    `pip3 install boto3`\n",
    "\n",
    "    or \n",
    "\n",
    "    `sudo pip3 install boto3`\n",
    "\n",
    "- [Boto 3 Documentation](https://boto3.amazonaws.com/v1/documentation/api/latest/index.html)\n"
   ]
  },
  {
   "cell_type": "markdown",
   "metadata": {},
   "source": [
    "### Working with boto3"
   ]
  },
  {
   "cell_type": "markdown",
   "metadata": {},
   "source": [
    "You have to create an object of a class you want to work with. Two main classes are:\n",
    "- client (low-level)\n",
    "- resource (higher-level)"
   ]
  },
  {
   "cell_type": "markdown",
   "metadata": {},
   "source": [
    "### Examples"
   ]
  },
  {
   "cell_type": "markdown",
   "metadata": {},
   "source": [
    "`Create EC2 instance`"
   ]
  },
  {
   "cell_type": "code",
   "execution_count": null,
   "metadata": {},
   "outputs": [],
   "source": [
    "import boto3\n",
    "session = boto3.session.Session(profile_name='')\n",
    "ec2 = session.resource('', region_name='')\n",
    "imageid = \n",
    "instance_type = \n",
    "key_name = \n",
    "security_group_id = \n",
    "\n",
    "instance = ec2.create_instances(\n",
    "    BlockDeviceMappings=\n",
    "    [{\n",
    "        \"DeviceName\": \"/dev/sda1\",\n",
    "        \"Ebs\": {\n",
    "            \"VolumeSize\": 100,\n",
    "            \"VolumeType\": \"gp2\",\n",
    "            \"DeleteOnTermination\": True\n",
    "        }\n",
    "    },\n",
    "    ],\n",
    "    ImageId=imageid,\n",
    "    InstanceType=instance_type,\n",
    "    KeyName=key_name,\n",
    "    MaxCount=1,\n",
    "    MinCount=1,\n",
    "    Placement=\n",
    "    {\n",
    "        'AvailabilityZone': \"us-east-1b\",\n",
    "        'GroupName': \"\",\n",
    "        'Tenancy': \"default\",\n",
    "    },\n",
    "\n",
    "    SecurityGroupIds=[\n",
    "        security_group_id,\n",
    "    ],\n",
    "\n",
    ")"
   ]
  },
  {
   "cell_type": "markdown",
   "metadata": {},
   "source": [
    "`Show metadata of your instance`"
   ]
  },
  {
   "cell_type": "code",
   "execution_count": null,
   "metadata": {},
   "outputs": [],
   "source": [
    "instance"
   ]
  },
  {
   "cell_type": "markdown",
   "metadata": {},
   "source": [
    "`Stop instance`"
   ]
  },
  {
   "cell_type": "markdown",
   "metadata": {},
   "source": [
    "Put your parameters into empty spaces"
   ]
  },
  {
   "cell_type": "code",
   "execution_count": null,
   "metadata": {},
   "outputs": [],
   "source": [
    "session = boto3.session.Session(profile_name=)\n",
    "client = session.client('ec2', region_name='us-east-1')\n",
    "response = client.stop_instances(InstanceIds=[''])\n",
    "response"
   ]
  },
  {
   "cell_type": "markdown",
   "metadata": {},
   "source": [
    "`Terminate-instance`"
   ]
  },
  {
   "cell_type": "markdown",
   "metadata": {},
   "source": [
    "Put your parameters into empty spaces"
   ]
  },
  {
   "cell_type": "code",
   "execution_count": null,
   "metadata": {},
   "outputs": [],
   "source": [
    "session = boto3.session.Session(profile_name=)\n",
    "client = session.client('ec2', region_name='us-east-1')\n",
    "response = client.terminate_instances(InstanceIds=[''])\n",
    "response"
   ]
  },
  {
   "cell_type": "markdown",
   "metadata": {},
   "source": [
    "## Exercise (5 minutes)\n",
    "\n",
    "1. Create instance using boto3.\n",
    "2. Find your instance in AWS management console.\n",
    "3. Stop the instance using boto3.\n",
    "4. Check your instance state in AWS management console.\n",
    "5. Terminate the instance using boto3.\n",
    "6. Check your instance state in AWS management console."
   ]
  },
  {
   "cell_type": "code",
   "execution_count": null,
   "metadata": {},
   "outputs": [],
   "source": []
  }
 ],
 "metadata": {
  "kernelspec": {
   "display_name": "Python 3",
   "language": "python",
   "name": "python3"
  },
  "language_info": {
   "codemirror_mode": {
    "name": "ipython",
    "version": 3
   },
   "file_extension": ".py",
   "mimetype": "text/x-python",
   "name": "python",
   "nbconvert_exporter": "python",
   "pygments_lexer": "ipython3",
   "version": "3.6.2"
  }
 },
 "nbformat": 4,
 "nbformat_minor": 2
}
